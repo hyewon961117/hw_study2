{
 "cells": [
  {
   "cell_type": "code",
   "execution_count": 15,
   "metadata": {},
   "outputs": [
    {
     "name": "stdout",
     "output_type": "stream",
     "text": [
      "변환 전:\n",
      "0     7.2500\n",
      "1    71.2833\n",
      "2     7.9250\n",
      "3    53.1000\n",
      "4     8.0500\n",
      "Name: Fare, dtype: float64\n",
      "--------------------------------------------------\n",
      "정규화변환 후:\n",
      "0    0.014151\n",
      "1    0.139136\n",
      "2    0.015469\n",
      "3    0.103644\n",
      "4    0.015713\n",
      "Name: Fare, dtype: float64\n",
      "--------------------------------------------------\n",
      "표준화변환 후:\n",
      "0   -0.502163\n",
      "1    0.786404\n",
      "2   -0.488580\n",
      "3    0.420494\n",
      "4   -0.486064\n",
      "Name: Fare, dtype: float64\n"
     ]
    }
   ],
   "source": [
    "import numpy as np\n",
    "import pandas as pd\n",
    "\n",
    "# 파일 불러오기\n",
    "df = pd.read_csv('./data/titanic.csv')\n",
    "fare = df['Fare']\n",
    "\n",
    "# 정규화 \n",
    "def normal(data):\n",
    "    data_max = data.max()\n",
    "    data_min = data.min()\n",
    "    data = data.apply(lambda x : (x-data_min)/(data_max-data_min))\n",
    "    return data\n",
    "\n",
    "# 표준화\n",
    "def std(data):\n",
    "    data_mean = data.mean()\n",
    "    data_std = data.std()\n",
    "    data = data.apply(lambda x : (x-data_mean)/data_std)\n",
    "    return data\n",
    "\n",
    "fare1 = normal(fare)\n",
    "fare2 = std(fare)\n",
    "\n",
    "print('변환 전:')\n",
    "print(fare.head())\n",
    "print('-'*30)\n",
    "print('정규화변환 후:')\n",
    "print(fare1.head())\n",
    "print('-'*30)\n",
    "print('표준화변환 후:')\n",
    "print(fare2.head())\n"
   ]
  },
  {
   "cell_type": "code",
   "execution_count": null,
   "metadata": {},
   "outputs": [],
   "source": []
  }
 ],
 "metadata": {
  "kernelspec": {
   "display_name": "Python 3",
   "language": "python",
   "name": "python3"
  },
  "language_info": {
   "codemirror_mode": {
    "name": "ipython",
    "version": 3
   },
   "file_extension": ".py",
   "mimetype": "text/x-python",
   "name": "python",
   "nbconvert_exporter": "python",
   "pygments_lexer": "ipython3",
   "version": "3.8.7"
  },
  "orig_nbformat": 4
 },
 "nbformat": 4,
 "nbformat_minor": 2
}
