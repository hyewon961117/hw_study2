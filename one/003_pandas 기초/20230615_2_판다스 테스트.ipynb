{
 "cells": [
  {
   "cell_type": "code",
   "execution_count": 76,
   "metadata": {},
   "outputs": [
    {
     "name": "stdout",
     "output_type": "stream",
     "text": [
      "<실행결과>\n",
      "1         5\n",
      "2        11\n",
      "3        14\n",
      "4        30\n",
      "5        33\n",
      "6        38\n",
      "bonus    24\n",
      "dtype: int64\n"
     ]
    }
   ],
   "source": [
    "# 071일차-실습-0-1\n",
    "import pandas as pd\n",
    "\n",
    "lotto_dic = {1:5, 2:11, 3:14, 4:30, 5:33, 6:38, 'bonus':24}\n",
    "lotto_S = pd.Series(lotto_dic)\n",
    "\n",
    "# lotto_S = pd.Series([5,11,14,30,33,38,24], index=[1,2,3,4,5,6,'bonus'])\n",
    "\n",
    "print('<실행결과>')\n",
    "print(lotto_S)"
   ]
  },
  {
   "cell_type": "code",
   "execution_count": 75,
   "metadata": {},
   "outputs": [
    {
     "name": "stdout",
     "output_type": "stream",
     "text": [
      "-홍길동--이순신--강감찬--유관순--강환석-\n",
      "-53.33점--60.00점--93.33점--83.33점--95.00점-"
     ]
    }
   ],
   "source": [
    "# 071일차-실습-0-2\n",
    "import pandas as pd\n",
    "\n",
    "jumsu = {\n",
    "'홍길동' : [50,60,50],\n",
    "'이순신' : [60,60,60],\n",
    "'강감찬' : [100,90,90],\n",
    "'유관순' : [80,80,90],\n",
    "'강환석' : [95,95,95],\n",
    "}\n",
    "\n",
    "jumsu_S = pd.Series(jumsu).apply(lambda x : sum(x)/3)\n",
    "\n",
    "for i in jumsu_S.index:\n",
    "    print(f\"-{i}-\", end=\"\")\n",
    "print('')\n",
    "    \n",
    "for v in jumsu_S.values:\n",
    "    print(f'-{v:^.2f}점-', end=\"\")"
   ]
  },
  {
   "cell_type": "code",
   "execution_count": 74,
   "metadata": {},
   "outputs": [
    {
     "name": "stdout",
     "output_type": "stream",
     "text": [
      "-홍길동---이순신---강감찬---유관순---강환석--\n",
      "-53.33점--60.00점--93.33점--83.33점--95.00점-"
     ]
    }
   ],
   "source": [
    "# 071일차-실습-0-2-해답 \n",
    "import pandas as pd \n",
    "import numpy as np\n",
    "\n",
    "#\n",
    "jumsu = {\n",
    "'홍길동' : [50,60,50],\n",
    "'이순신' : [60,60,60],\n",
    "'강감찬' : [100,90,90],\n",
    "'유관순' : [80,80,90],\n",
    "'강환석' : [95,95,95],\n",
    "}\n",
    "s1_jumsu = pd.Series(jumsu)\n",
    "for i in s1_jumsu.index:\n",
    "    print('-' + i + '-', end='-')\n",
    "print()\n",
    "for i in s1_jumsu.values:\n",
    "    #print(i)\n",
    "    #print(type(i))\n",
    "    print( '-{:.2f}점-'.format( np.mean(i)), end='')  \n",
    "        # np는 numpy 라이브러리를 말함 np.mean()은 평균 함수임"
   ]
  },
  {
   "cell_type": "code",
   "execution_count": 85,
   "metadata": {},
   "outputs": [
    {
     "name": "stdout",
     "output_type": "stream",
     "text": [
      "-홍길동--이순신--강감찬--유관순--강환석-\n",
      "-60.00점--60.00점--100.00점--90.00점--95.00점-\n",
      "-50.00점--60.00점--90.00점--80.00점--95.00점-"
     ]
    }
   ],
   "source": [
    "#071일차-실습-0-3\n",
    "import pandas as pd\n",
    "import numpy as np\n",
    "\n",
    "jumsu = {\n",
    "'홍길동' : [50,60,50],\n",
    "'이순신' : [60,60,60],\n",
    "'강감찬' : [100,90,90],\n",
    "'유관순' : [80,80,90],\n",
    "'강환석' : [95,95,95],\n",
    "}\n",
    "\n",
    "jumsu_S = pd.Series(jumsu)\n",
    "\n",
    "for i in jumsu_S.index:\n",
    "    print(f\"-{i}-\", end=\"\")\n",
    "print()\n",
    "\n",
    "for v1 in jumsu_S.values:\n",
    "    print('-{:.2f}점-'.format(np.max(v1)), end=\"\")\n",
    "print()\n",
    "    \n",
    "for v2 in jumsu_S.values:\n",
    "    print('-{:.2f}점-'.format(np.min(v2)), end=\"\")"
   ]
  },
  {
   "cell_type": "code",
   "execution_count": 93,
   "metadata": {},
   "outputs": [
    {
     "name": "stdout",
     "output_type": "stream",
     "text": [
      "홍길동-홍길도-강감도-유관도-홍길재-강감재-유관재-\n",
      "53.33--48.33--54.33--53.33--48.67--54.67--53.67--"
     ]
    }
   ],
   "source": [
    "# 071일차-실습-0-4\n",
    "import pandas as pd\n",
    "import numpy as np\n",
    "\n",
    "jumsu = {\n",
    "'홍길동' : [50,60,50],\n",
    "'이순동' : [60,60,60],\n",
    "'강감동' : [100,90,90],\n",
    "'유관동' : [80,80,90],\n",
    "'홍길도' : [50,45,50],\n",
    "'이순도' : [80,70,66],\n",
    "'강감도' : [64,49,50],\n",
    "'유관도' : [60,50,50],\n",
    "'홍길재' : [50,45,51],\n",
    "'이순재' : [80,70,61],\n",
    "'강감재' : [64,49,51],\n",
    "'유관재' : [60,50,51],\n",
    "'강환석' : [95,95,95]\n",
    "}\n",
    "\n",
    "jumsu_S = pd.Series(jumsu).apply(lambda x : np.mean(x))\n",
    "jumsu_S = jumsu_S[jumsu_S<60]\n",
    "\n",
    "for i in jumsu_S.index:\n",
    "    print(f\"{i}-\", end=\"\")\n",
    "print()\n",
    "\n",
    "for v in jumsu_S.values:\n",
    "    print('{:.2f}--'.format(v), end=\"\")\n"
   ]
  },
  {
   "cell_type": "code",
   "execution_count": null,
   "metadata": {},
   "outputs": [],
   "source": [
    "# 실습-0-4-해답\n",
    "import numpy as np\n",
    "import pandas as pd \n",
    "#\n",
    "jumsu = {'홍길동' : [50,60,50],'이순동' : [60,60,60],'강감동' : [100,90,90],'유관동' : [80,80,90],\n",
    "'홍길도' : [50,45,50],'이순도' : [80,70,66],'강감도' : [64,49,50],'유관도' : [60,50,50],'홍길재' : [50,45,51],\n",
    "'이순재' : [80,70,61],'강감재' : [64,49,51],'유관재' : [60,50,51],'강환석' : [95,95,95]}\n",
    "# 딕셔너리의 요소중에 평균 점수가 60점 미만인 것만 필터링 하는 루틴\n",
    "jumsu2 = dict(  {   key : round(np.mean(value),2)   for key, value  in jumsu.items() if np.mean(value)<60  } )\n",
    "                                                                     # jumsu 딕셔너리의 밸류 중에서 평균이 60 미만인 것만 \n",
    "                                                                     # 뽑아낸 쌍을 items() 튜플에 할당하고 튜플의 요소를 \n",
    "                                                                     # unpacking하여 key, value 라는 변수에 할당하는 for문 \n",
    "                                                                     # items() 함수는 Key와 Value의 쌍을 튜플로 묶은 값을 dict_items  \n",
    "                                                                     # 객체로반환함. 이 구절에서는 튜플로 묶은 dict_items 객체를 \n",
    "                                                                     # in 연산자 왼쪽의  key, value에 unpacking하였다\n",
    "                           # for 문으로 발생한 key, value를 \n",
    "                           # 각각 key와 round(np.mean(value),2)의 쌍으로 구성하고 이것을\n",
    "                # dict() 형변환 함수로 변환하여 jumsu2 딕셔너리로 생성한다.\n",
    "#\n",
    "#print(type(jumsu2)) # 서비스 코드임\n",
    "#print(jumsu2)       # 서비스 코드임\n",
    "#\n",
    "jumsu3 = pd.Series(jumsu2)\n",
    "for i in jumsu3.index:\n",
    "    print(i, end=\"-\")\n",
    "print()\n",
    "for i in jumsu3:\n",
    "    print(i, end=\"--\")\n",
    "print()"
   ]
  }
 ],
 "metadata": {
  "kernelspec": {
   "display_name": "Python 3",
   "language": "python",
   "name": "python3"
  },
  "language_info": {
   "codemirror_mode": {
    "name": "ipython",
    "version": 3
   },
   "file_extension": ".py",
   "mimetype": "text/x-python",
   "name": "python",
   "nbconvert_exporter": "python",
   "pygments_lexer": "ipython3",
   "version": "3.8.7"
  },
  "orig_nbformat": 4
 },
 "nbformat": 4,
 "nbformat_minor": 2
}
