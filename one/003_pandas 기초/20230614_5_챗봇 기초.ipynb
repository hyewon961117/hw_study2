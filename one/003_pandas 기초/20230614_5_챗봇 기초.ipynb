{
 "cells": [
  {
   "cell_type": "code",
   "execution_count": 10,
   "metadata": {},
   "outputs": [
    {
     "name": "stdout",
     "output_type": "stream",
     "text": [
      "3 6\n",
      "이름\n",
      "Kei\n"
     ]
    }
   ],
   "source": [
    "# 엑셀 파일의 특정 셀 내용 읽어오기\n",
    "\n",
    "import openpyxl\n",
    "\n",
    "wb = openpyxl.load_workbook('./sample.xlsx')\n",
    "sheet = wb['Sheet1']\n",
    "\n",
    "print(sheet.max_column, sheet.max_row)\n",
    "print(sheet.cell(row=1, column=1).value)\n",
    "print(sheet.cell(row=2, column=1).value)\n",
    "\n",
    "wb.close()"
   ]
  },
  {
   "cell_type": "code",
   "execution_count": 8,
   "metadata": {},
   "outputs": [
    {
     "data": {
      "text/plain": [
       "openpyxl.workbook.workbook.Workbook"
      ]
     },
     "execution_count": 8,
     "metadata": {},
     "output_type": "execute_result"
    }
   ],
   "source": [
    "type(wb)"
   ]
  },
  {
   "cell_type": "code",
   "execution_count": 11,
   "metadata": {},
   "outputs": [
    {
     "name": "stdout",
     "output_type": "stream",
     "text": [
      "Kei\n",
      "35\n",
      "1234-1234\n",
      "----------\n",
      "Hong\n",
      "26\n",
      "4320-1420\n",
      "----------\n",
      "Kim\n",
      "41\n",
      "1234-5678\n",
      "----------\n",
      "Choi\n",
      "38\n",
      "4023-3411\n",
      "----------\n",
      "Go\n",
      "27\n",
      "1469-4023\n",
      "----------\n"
     ]
    }
   ],
   "source": [
    "# 엑셀 파일의 모든 셀 내용 읽어오기\n",
    "\n",
    "import openpyxl\n",
    "\n",
    "wb = openpyxl.load_workbook('./sample.xlsx')\n",
    "sheet = wb['Sheet1']\n",
    "\n",
    "# 안쪽 열, 바깥쪽 행\n",
    "for row in sheet.iter_rows(min_row=2): # 행\n",
    "    for cell in row: # 열\n",
    "        print(cell.value)\n",
    "    print('-'*10)\n",
    "wb.close()"
   ]
  },
  {
   "cell_type": "code",
   "execution_count": 12,
   "metadata": {},
   "outputs": [
    {
     "name": "stdout",
     "output_type": "stream",
     "text": [
      "Kei\n",
      "35\n",
      "1234-1234\n",
      "----------\n",
      "Hong\n",
      "26\n",
      "4320-1420\n",
      "----------\n"
     ]
    }
   ],
   "source": [
    "# 엑셀 파일에서 지정한 셀 내용 읽어오기\n",
    "import openpyxl\n",
    "\n",
    "wb = openpyxl.load_workbook('./sample.xlsx')\n",
    "sheet = wb['Sheet1']\n",
    "\n",
    "cells = sheet['A2':'C3']\n",
    "for row in cells:\n",
    "    for cell in row:\n",
    "        print(cell.value)\n",
    "    print('-'*10)\n",
    "wb.close()"
   ]
  },
  {
   "cell_type": "code",
   "execution_count": 14,
   "metadata": {},
   "outputs": [],
   "source": [
    "# openpyxl로 엑셀 파일 쓰기\n",
    "# 회원정보를 엑셀에 저장\n",
    "\n",
    "import openpyxl\n",
    "\n",
    "wb = openpyxl.Workbook()\n",
    "sheet = wb.active\n",
    "sheet.title = '회원정보'\n",
    "\n",
    "# 표 헤더 컬럼 저장\n",
    "header_titles = ['이름','전화번호']\n",
    "for idx, title in enumerate(header_titles):\n",
    "    sheet.cell(row=1, column=idx+1, value=title)\n",
    "    \n",
    "# 표 내용 저장\n",
    "members = [('kei','010-1234-1234'), ('hong','010-4321-1234')]\n",
    "row_num = 2\n",
    "for r, member in enumerate(members):\n",
    "    for c,v in enumerate(member):\n",
    "        sheet.cell(row=row_num+r, column=c+1, value=v)\n",
    "        \n",
    "wb.save('./members.xlsx')\n",
    "wb.close()"
   ]
  },
  {
   "cell_type": "code",
   "execution_count": 18,
   "metadata": {},
   "outputs": [
    {
     "name": "stdout",
     "output_type": "stream",
     "text": [
      "<class 'pandas.core.frame.DataFrame'>\n",
      "RangeIndex: 20000 entries, 0 to 19999\n",
      "Data columns (total 3 columns):\n",
      " #   Column  Non-Null Count  Dtype \n",
      "---  ------  --------------  ----- \n",
      " 0   height  20000 non-null  int64 \n",
      " 1   weight  20000 non-null  int64 \n",
      " 2   label   20000 non-null  object\n",
      "dtypes: int64(2), object(1)\n",
      "memory usage: 468.9+ KB\n",
      "None\n",
      "184    61    thin\n",
      "189    56    thin\n",
      "183    79    normal\n",
      "143    40    normal\n",
      "187    66    normal\n",
      "161    52    normal\n",
      "186    54    thin\n",
      "144    57    fat\n",
      "184    55    thin\n",
      "165    76    fat\n",
      "143    45    normal\n",
      "154    61    fat\n",
      "159    57    normal\n",
      "177    45    thin\n",
      "174    78    fat\n",
      "140    80    fat\n",
      "150    75    fat\n",
      "141    47    normal\n",
      "186    57    thin\n",
      "154    83    fat\n",
      "141    65    fat\n",
      "178    74    normal\n",
      "157    84    fat\n",
      "175    56    thin\n",
      "172    40    thin\n",
      "170    69    normal\n",
      "143    64    fat\n",
      "148    68    fat\n",
      "161    56    normal\n",
      "176    77    normal\n",
      "142    60    fat\n",
      "145    41    normal\n",
      "179    84    fat\n",
      "164    80    fat\n",
      "153    53    normal\n",
      "182    45    thin\n",
      "167    49    thin\n",
      "168    51    thin\n",
      "155    40    thin\n",
      "188    51    thin\n",
      "159    44    thin\n",
      "173    76    fat\n",
      "168    64    normal\n",
      "142    51    fat\n",
      "179    68    normal\n",
      "145    44    normal\n",
      "140    69    fat\n",
      "162    77    fat\n",
      "185    59    thin\n",
      "174    50    thin\n",
      "147    69    fat\n",
      "145    41    normal\n",
      "149    68    fat\n",
      "157    46    normal\n",
      "149    68    fat\n",
      "178    55    thin\n",
      "188    45    thin\n",
      "151    55    normal\n",
      "141    47    normal\n",
      "174    60    normal\n",
      "189    69    normal\n",
      "140    61    fat\n",
      "145    61    fat\n",
      "141    66    fat\n",
      "180    45    thin\n",
      "180    62    normal\n",
      "161    53    normal\n",
      "149    41    thin\n",
      "154    70    fat\n",
      "166    66    normal\n",
      "144    65    fat\n",
      "145    47    normal\n",
      "164    85    fat\n",
      "159    73    fat\n",
      "167    41    thin\n",
      "171    47    thin\n",
      "167    40    thin\n",
      "185    50    thin\n",
      "165    81    fat\n",
      "167    62    normal\n",
      "171    41    thin\n",
      "157    64    fat\n",
      "145    63    fat\n",
      "183    48    thin\n",
      "142    54    fat\n",
      "149    44    normal\n",
      "148    61    fat\n",
      "159    63    normal\n",
      "190    76    normal\n",
      "184    49    thin\n",
      "170    46    thin\n",
      "153    69    fat\n",
      "160    78    fat\n",
      "166    40    thin\n",
      "170    45    thin\n",
      "157    50    normal\n",
      "143    82    fat\n",
      "171    66    normal\n",
      "184    50    thin\n",
      "161    67    fat\n",
      "전체 레코드 수 :  100\n"
     ]
    }
   ],
   "source": [
    "# csv 자료를 테이블에 저장하기\n",
    "'''\n",
    "cdv -> db table\n",
    "    1차 실행 : table 생성 -> 레코드 추가\n",
    "    2차 실행 : 레코드 검색\n",
    "'''\n",
    "\n",
    "import pandas as pd\n",
    "import pymysql\n",
    "\n",
    "# (1) csv 파일 로드\n",
    "bmi = pd.read_csv(\"data/bmi.csv\")\n",
    "print(bmi.info())\n",
    "\n",
    "# (2) 각 컬럼 추출\n",
    "height = bmi['height']\n",
    "weight = bmi['weight']\n",
    "label = bmi['label']\n",
    "\n",
    "config = {\n",
    "    'host' : '127.0.0.1',\n",
    "    'user' : 'root',\n",
    "    'password' : '0000',\n",
    "    'database' : 'work',\n",
    "    'port' : 3306,\n",
    "    'charset' : 'utf8',\n",
    "    'use_unicode' : True\n",
    "}\n",
    "\n",
    "try:\n",
    "    conn = pymysql.connect(**config)\n",
    "    cursor = conn.cursor()\n",
    "    \n",
    "    # (3) table 조회\n",
    "    cursor.execute(\"show tables\")\n",
    "    tables = cursor.fetchall()\n",
    "    \n",
    "    # (4) 스위칭기법\n",
    "    sw = False\n",
    "    for table in tables:\n",
    "        if table[0] == 'bmi_tab':\n",
    "            sw = True # table 있는 경우 swapping\n",
    "    \n",
    "    # (5) table 생성\n",
    "    if not sw :\n",
    "        print('테이블 없음') # table 없으면 생성\n",
    "        sql = '''create table bmi_tab(\n",
    "            height int not null,\n",
    "            weight int not null,\n",
    "            label varchar(15) not null)'''\n",
    "        cursor.execute(sql)\n",
    "        \n",
    "    # (6) 레코드 조회\n",
    "    cursor.execute(\"select * from bmi_tab\")\n",
    "    rows = cursor.fetchall()\n",
    "    \n",
    "    if rows: # (7) 레코드가 있는 경우 : 레코드 조회\n",
    "        for row in rows:\n",
    "            print(f\"{row[0]}    {row[1]}    {row[2]}\")\n",
    "        print('전체 레코드 수 : ', len(rows))\n",
    "\n",
    "    else: # (8) 레코드 없는 경우 : 레코드 추가\n",
    "        print(\"100 레코드 추가\")\n",
    "        for i in range(100) :\n",
    "            h = height[i]\n",
    "            w = weight[i]\n",
    "            lab = label[i]\n",
    "            cursor.execute(f\"insert into bmi_tab values({h},{w},'{lab}')\")\n",
    "            conn.commit()\n",
    "except Exception as e :\n",
    "    print('db error :', e)\n",
    "\n",
    "finally:\n",
    "    cursor.close()\n",
    "    conn.close()    \n",
    "    "
   ]
  },
  {
   "cell_type": "code",
   "execution_count": 22,
   "metadata": {},
   "outputs": [
    {
     "name": "stdout",
     "output_type": "stream",
     "text": [
      "(('bmi_tab',), ('course',), ('goods',), ('score',), ('stud',))\n"
     ]
    }
   ],
   "source": [
    "print(tables)"
   ]
  },
  {
   "cell_type": "code",
   "execution_count": null,
   "metadata": {},
   "outputs": [],
   "source": []
  },
  {
   "cell_type": "code",
   "execution_count": null,
   "metadata": {},
   "outputs": [],
   "source": []
  },
  {
   "cell_type": "code",
   "execution_count": null,
   "metadata": {},
   "outputs": [],
   "source": []
  },
  {
   "cell_type": "code",
   "execution_count": null,
   "metadata": {},
   "outputs": [],
   "source": []
  }
 ],
 "metadata": {
  "kernelspec": {
   "display_name": "Python 3",
   "language": "python",
   "name": "python3"
  },
  "language_info": {
   "codemirror_mode": {
    "name": "ipython",
    "version": 3
   },
   "file_extension": ".py",
   "mimetype": "text/x-python",
   "name": "python",
   "nbconvert_exporter": "python",
   "pygments_lexer": "ipython3",
   "version": "3.8.7"
  },
  "orig_nbformat": 4
 },
 "nbformat": 4,
 "nbformat_minor": 2
}
